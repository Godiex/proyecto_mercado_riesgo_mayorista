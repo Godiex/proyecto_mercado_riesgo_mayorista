{
 "cells": [
  {
   "cell_type": "markdown",
   "source": [
    "**Carga de datos**"
   ],
   "metadata": {
    "collapsed": false,
    "pycharm": {
     "name": "#%% md\n"
    }
   }
  },
  {
   "cell_type": "code",
   "execution_count": 1,
   "outputs": [
    {
     "name": "stdout",
     "output_type": "stream",
     "text": [
      "<class 'pandas.core.frame.DataFrame'>\n",
      "RangeIndex: 1756 entries, 0 to 1755\n",
      "Data columns (total 76 columns):\n",
      " #   Column                               Non-Null Count  Dtype  \n",
      "---  ------                               --------------  -----  \n",
      " 0   Unnamed: 0                           1756 non-null   int64  \n",
      " 1   Mes_Actualizacion_Id                 1756 non-null   int64  \n",
      " 2   Fecha_Actualizacion                  1756 non-null   object \n",
      " 3   Mes_Cruce_id                         1756 non-null   int64  \n",
      " 4   Año                                  1756 non-null   int64  \n",
      " 5   Mes                                  1756 non-null   int64  \n",
      " 6   Trimestre                            1756 non-null   int64  \n",
      " 7   Codigo_Agente                        1756 non-null   object \n",
      " 8   Nombre_Agente                        1756 non-null   object \n",
      " 9   Actividad_Txt                        1756 non-null   object \n",
      " 10  Fecha_Inicio_Operacion               1756 non-null   object \n",
      " 11  Estado_Txt                           1756 non-null   object \n",
      " 12  actividad                            878 non-null    object \n",
      " 13  nit                                  878 non-null    float64\n",
      " 14  fecha_registro                       878 non-null    object \n",
      " 15  Acumulado_Demanda_Comercial          1756 non-null   float64\n",
      " 16  Acumulado_Ventas_Contrato            1756 non-null   float64\n",
      " 17  Acumulado_Compras_Contrato           1756 non-null   float64\n",
      " 18  Acumulado_Compras_Bolsa              1756 non-null   float64\n",
      " 19  Acumulado_Demanda_NoRegulada         1756 non-null   float64\n",
      " 20  Acumulado_Demanda_Regulada           1756 non-null   float64\n",
      " 21  Acumulado_Ventas_Bolsa               1756 non-null   float64\n",
      " 22  Acumulado_Generacion_Ideal           1756 non-null   float64\n",
      " 23  Exp_bolsa_comer                      420 non-null    float64\n",
      " 24  Exp_bolsa_gen                        308 non-null    float64\n",
      " 25  sanc_ult_mes_norelevante             356 non-null    float64\n",
      " 26  sanc_ult_2_meses_norelevante         356 non-null    float64\n",
      " 27  sanc_ult_3_meses_norelevante         356 non-null    float64\n",
      " 28  sanc_ult_6_meses_norelevante         356 non-null    float64\n",
      " 29  sanc_ult_9_meses_norelevante         356 non-null    float64\n",
      " 30  sanc_ult_12_meses_norelevante        356 non-null    float64\n",
      " 31  tiene_sancion_norelevante            356 non-null    float64\n",
      " 32  sanc_ult_mes_relevante               107 non-null    float64\n",
      " 33  sanc_ult_2_meses_relevante           107 non-null    float64\n",
      " 34  sanc_ult_3_meses_relevante           107 non-null    float64\n",
      " 35  sanc_ult_6_meses_relevante           107 non-null    float64\n",
      " 36  sanc_ult_9_meses_relevante           107 non-null    float64\n",
      " 37  sanc_ult_12_meses_relevante          107 non-null    float64\n",
      " 38  tiene_sancion_relevante              107 non-null    float64\n",
      " 39  max_mora                             334 non-null    float64\n",
      " 40  sanc_ult_mes_norelevante_bolsa       151 non-null    float64\n",
      " 41  sanc_ult_2_meses_norelevante_bolsa   151 non-null    float64\n",
      " 42  sanc_ult_3_meses_norelevante_bolsa   151 non-null    float64\n",
      " 43  sanc_ult_6_meses_norelevante_bolsa   151 non-null    float64\n",
      " 44  sanc_ult_9_meses_norelevante_bolsa   151 non-null    float64\n",
      " 45  sanc_ult_12_meses_norelevante_bolsa  151 non-null    float64\n",
      " 46  tiene_sancion_norelevante_bolsa      151 non-null    float64\n",
      " 47  sanc_ult_mes_relevante_bolsa         28 non-null     float64\n",
      " 48  sanc_ult_2_meses_relevante_bolsa     28 non-null     float64\n",
      " 49  sanc_ult_3_meses_relevante_bolsa     28 non-null     float64\n",
      " 50  sanc_ult_6_meses_relevante_bolsa     28 non-null     float64\n",
      " 51  sanc_ult_9_meses_relevante_bolsa     28 non-null     float64\n",
      " 52  sanc_ult_12_meses_relevante_bolsa    28 non-null     float64\n",
      " 53  tiene_sancion_relevante_bolsa        28 non-null     float64\n",
      " 54  max_mora_bolsa                       142 non-null    float64\n",
      " 55  x1_liquidez                          441 non-null    float64\n",
      " 56  x2_rentabilidad                      240 non-null    float64\n",
      " 57  x3_apalancamiento                    428 non-null    float64\n",
      " 58  x4_solvencia                         449 non-null    float64\n",
      " 59  altman                               465 non-null    float64\n",
      " 60  razon_corriente                      437 non-null    float64\n",
      " 61  margen_neto                          154 non-null    float64\n",
      " 62  rentabilidad_del_patrimonio          154 non-null    float64\n",
      " 63  solvencia_patrimonial                449 non-null    float64\n",
      " 64  concentracion_endeudamiento          443 non-null    float64\n",
      " 65  apalancamiento                       453 non-null    float64\n",
      " 66  endeuda_activos                      457 non-null    float64\n",
      " 67  capital_de_trabajo                   441 non-null    float64\n",
      " 68  margen_EBITDA                        220 non-null    float64\n",
      " 69  cubrimiento_gastos_fro               196 non-null    float64\n",
      " 70  Indicador_altman                     465 non-null    object \n",
      " 71  Tamaño_empresa                       465 non-null    object \n",
      " 72  tiene_reporte_CROM1                  920 non-null    float64\n",
      " 73  num_reportes_CROM1                   920 non-null    float64\n",
      " 74  tiene_reporte_CROM2                  920 non-null    float64\n",
      " 75  num_reportes_CROM2                   920 non-null    float64\n",
      "dtypes: float64(60), int64(6), object(10)\n",
      "memory usage: 1.0+ MB\n"
     ]
    }
   ],
   "source": [
    "import pandas as pd\n",
    "path = \"D:/Documentos/UPC/proyecto_mineria/sabana.csv\"\n",
    "data = pd.read_csv(path, sep=\";\")\n",
    "data.info()"
   ],
   "metadata": {
    "collapsed": false,
    "pycharm": {
     "name": "#%%\n"
    }
   }
  }
 ],
 "metadata": {
  "kernelspec": {
   "display_name": "Python 3",
   "language": "python",
   "name": "python3"
  },
  "language_info": {
   "codemirror_mode": {
    "name": "ipython",
    "version": 2
   },
   "file_extension": ".py",
   "mimetype": "text/x-python",
   "name": "python",
   "nbconvert_exporter": "python",
   "pygments_lexer": "ipython2",
   "version": "2.7.6"
  }
 },
 "nbformat": 4,
 "nbformat_minor": 0
}